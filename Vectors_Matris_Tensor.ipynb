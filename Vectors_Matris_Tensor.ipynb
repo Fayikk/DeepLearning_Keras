{
  "nbformat": 4,
  "nbformat_minor": 0,
  "metadata": {
    "colab": {
      "name": "Vectors_Matris_Tensor.ipynb",
      "provenance": [],
      "authorship_tag": "ABX9TyN5d2tRxXDud4J7FgWCnxsK",
      "include_colab_link": true
    },
    "kernelspec": {
      "name": "python3",
      "display_name": "Python 3"
    },
    "language_info": {
      "name": "python"
    }
  },
  "cells": [
    {
      "cell_type": "markdown",
      "metadata": {
        "id": "view-in-github",
        "colab_type": "text"
      },
      "source": [
        "<a href=\"https://colab.research.google.com/github/Fayikk/DeepLearning_Keras/blob/master/Vectors_Matris_Tensor.ipynb\" target=\"_parent\"><img src=\"https://colab.research.google.com/assets/colab-badge.svg\" alt=\"Open In Colab\"/></a>"
      ]
    },
    {
      "cell_type": "markdown",
      "source": [
        "# VECTORS"
      ],
      "metadata": {
        "id": "tXbi8W5LxHcY"
      }
    },
    {
      "cell_type": "code",
      "execution_count": null,
      "metadata": {
        "id": "wnueERq-w3vD",
        "colab": {
          "base_uri": "https://localhost:8080/"
        },
        "outputId": "d7b836fb-bf72-42f9-955f-b3b7704d4ab7"
      },
      "outputs": [
        {
          "output_type": "stream",
          "name": "stdout",
          "text": [
            "7\n"
          ]
        }
      ],
      "source": [
        "import numpy as np\n",
        "x=np.array(7)\n",
        "print(x)\n",
        "#Bu aslında skaler bir sayıdır."
      ]
    },
    {
      "cell_type": "code",
      "source": [
        "x.ndim"
      ],
      "metadata": {
        "colab": {
          "base_uri": "https://localhost:8080/"
        },
        "id": "9r-ydX1Fxm2s",
        "outputId": "3cabc596-451c-4e8a-90ca-6898be53b286"
      },
      "execution_count": null,
      "outputs": [
        {
          "output_type": "execute_result",
          "data": {
            "text/plain": [
              "1"
            ]
          },
          "metadata": {},
          "execution_count": 5
        }
      ]
    },
    {
      "cell_type": "code",
      "source": [
        "x=np.array([7,14,21])\n",
        "print(x)"
      ],
      "metadata": {
        "colab": {
          "base_uri": "https://localhost:8080/"
        },
        "id": "vXcwOJdExR1w",
        "outputId": "2b453bf6-7bd1-4015-8914-e95337c58938"
      },
      "execution_count": null,
      "outputs": [
        {
          "output_type": "stream",
          "name": "stdout",
          "text": [
            "[ 7 14 21]\n"
          ]
        }
      ]
    },
    {
      "cell_type": "code",
      "source": [
        "x.ndim"
      ],
      "metadata": {
        "colab": {
          "base_uri": "https://localhost:8080/"
        },
        "id": "TyGnXR9xxiGf",
        "outputId": "4a3d55e9-40c6-4b83-eec9-a09141469925"
      },
      "execution_count": null,
      "outputs": [
        {
          "output_type": "execute_result",
          "data": {
            "text/plain": [
              "1"
            ]
          },
          "metadata": {},
          "execution_count": 6
        }
      ]
    },
    {
      "cell_type": "code",
      "source": [
        "x=np.array([[1,2,3],[4,5,6],[7,8,9]])#array tanımlaması.\n",
        "print(x)"
      ],
      "metadata": {
        "colab": {
          "base_uri": "https://localhost:8080/"
        },
        "id": "Zize3XUaxsnF",
        "outputId": "9040f622-2c3c-4a11-d246-d3664ae80f80"
      },
      "execution_count": null,
      "outputs": [
        {
          "output_type": "stream",
          "name": "stdout",
          "text": [
            "[[1 2 3]\n",
            " [4 5 6]\n",
            " [7 8 9]]\n"
          ]
        }
      ]
    },
    {
      "cell_type": "code",
      "source": [
        "x.ndim #dimension(boyutu) 2 boyutlu oldu ve artık biz buna matris diyoruz."
      ],
      "metadata": {
        "colab": {
          "base_uri": "https://localhost:8080/"
        },
        "id": "fphBcJtax7f4",
        "outputId": "04544a16-cdda-4f78-d8b9-9a2f6c481f72"
      },
      "execution_count": null,
      "outputs": [
        {
          "output_type": "execute_result",
          "data": {
            "text/plain": [
              "2"
            ]
          },
          "metadata": {},
          "execution_count": 10
        }
      ]
    },
    {
      "cell_type": "code",
      "source": [
        "#Birde tensor deneyelim.\n",
        "x=np.array([[[1,2,3],\n",
        "            [4,5,6]],\n",
        "           [[11,12,13],\n",
        "           [14,15,16]],\n",
        "           [[10,4,7],\n",
        "            [10,4,7]]])\n",
        "x"
      ],
      "metadata": {
        "colab": {
          "base_uri": "https://localhost:8080/"
        },
        "id": "Tk99HAnEyLl2",
        "outputId": "31b95255-7f09-4cf5-e02c-e5baf6bc6152"
      },
      "execution_count": null,
      "outputs": [
        {
          "output_type": "execute_result",
          "data": {
            "text/plain": [
              "array([[[ 1,  2,  3],\n",
              "        [ 4,  5,  6]],\n",
              "\n",
              "       [[11, 12, 13],\n",
              "        [14, 15, 16]],\n",
              "\n",
              "       [[10,  4,  7],\n",
              "        [10,  4,  7]]])"
            ]
          },
          "metadata": {},
          "execution_count": 16
        }
      ]
    },
    {
      "cell_type": "code",
      "source": [
        "x.ndim #tensor olarak 3 boyutlu olduklarını görmüş oluyoruz."
      ],
      "metadata": {
        "colab": {
          "base_uri": "https://localhost:8080/"
        },
        "id": "dXgrMDuwyzgB",
        "outputId": "ed8a73a3-7336-4461-fb30-ec5fd9ca7672"
      },
      "execution_count": null,
      "outputs": [
        {
          "output_type": "execute_result",
          "data": {
            "text/plain": [
              "3"
            ]
          },
          "metadata": {},
          "execution_count": 17
        }
      ]
    },
    {
      "cell_type": "code",
      "source": [
        "from keras.datasets import mnist\n",
        "(train_images , train_labels),(test_images,test_labels) = mnist.load_data()"
      ],
      "metadata": {
        "colab": {
          "base_uri": "https://localhost:8080/"
        },
        "id": "-B4mEwiIzx8_",
        "outputId": "cca4d6ab-c284-4e71-e6c7-5d6654e37555"
      },
      "execution_count": null,
      "outputs": [
        {
          "output_type": "stream",
          "name": "stdout",
          "text": [
            "Downloading data from https://storage.googleapis.com/tensorflow/tf-keras-datasets/mnist.npz\n",
            "11493376/11490434 [==============================] - 0s 0us/step\n",
            "11501568/11490434 [==============================] - 0s 0us/step\n"
          ]
        }
      ]
    },
    {
      "cell_type": "code",
      "source": [
        "print(train_images.ndim)#train images 3 boyutlu olduğu bilgisini almaktayız."
      ],
      "metadata": {
        "colab": {
          "base_uri": "https://localhost:8080/"
        },
        "id": "s5xMlUxb0hYd",
        "outputId": "cdc6f2b3-55b3-4da8-d542-ed1982e518a7"
      },
      "execution_count": null,
      "outputs": [
        {
          "output_type": "stream",
          "name": "stdout",
          "text": [
            "3\n"
          ]
        }
      ]
    },
    {
      "cell_type": "code",
      "source": [
        "print(train_images.shape)#28e 28 olduğunu görmekteyiz"
      ],
      "metadata": {
        "colab": {
          "base_uri": "https://localhost:8080/"
        },
        "id": "v_n07YBN0q5T",
        "outputId": "7b8c4049-54e0-4787-f81f-187809ac6b9d"
      },
      "execution_count": null,
      "outputs": [
        {
          "output_type": "stream",
          "name": "stdout",
          "text": [
            "(60000, 28, 28)\n"
          ]
        }
      ]
    },
    {
      "cell_type": "code",
      "source": [
        "print(test_images.ndim)#3 boyutlu bir tensor olduğunu ndim(dimension komutu ile görebilirz.)\n",
        "print(test_images.shape)#10 bin tane test için ayrılmış durumda olduğunu görmekteyiz.\n"
      ],
      "metadata": {
        "colab": {
          "base_uri": "https://localhost:8080/"
        },
        "id": "Ohg0UXLu02Cw",
        "outputId": "54fa7e27-8794-4ddb-9156-ce693fd97250"
      },
      "execution_count": null,
      "outputs": [
        {
          "output_type": "stream",
          "name": "stdout",
          "text": [
            "3\n",
            "(10000, 28, 28)\n"
          ]
        }
      ]
    },
    {
      "cell_type": "code",
      "source": [
        "print(train_images.dtype)#verinin tipine bakabiliriz"
      ],
      "metadata": {
        "colab": {
          "base_uri": "https://localhost:8080/"
        },
        "id": "i5Bb2afP06tD",
        "outputId": "5aef3ab9-b6e2-4bc1-f0e3-1ada737d6d78"
      },
      "execution_count": null,
      "outputs": [
        {
          "output_type": "stream",
          "name": "stdout",
          "text": [
            "uint8\n"
          ]
        }
      ]
    },
    {
      "cell_type": "code",
      "source": [
        "digits=train_images[128]#train images içerisindeki verilerden yararlanaark okuma işlmemlerini yapalım\n",
        "#train_imagrs tensor içerisindeki 7.indekse sahip değer abktığımzda 3 rakamını ekranda göreceğizdir."
      ],
      "metadata": {
        "id": "qHPNflh61qTh"
      },
      "execution_count": null,
      "outputs": []
    },
    {
      "cell_type": "code",
      "source": [
        "import matplotlib.pyplot as plt\n",
        "plt.imshow(digits,cmap=plt.cm.binary)\n",
        "plt.show()"
      ],
      "metadata": {
        "colab": {
          "base_uri": "https://localhost:8080/",
          "height": 265
        },
        "id": "12TSw-Q91wQ-",
        "outputId": "ad471592-097c-4fa1-f2e2-167bda8fb1cb"
      },
      "execution_count": null,
      "outputs": [
        {
          "output_type": "display_data",
          "data": {
            "text/plain": [
              "<Figure size 432x288 with 1 Axes>"
            ],
            "image/png": "[encoded data removed]"
          },
          "metadata": {
            "needs_background": "light"
          }
        }
      ]
    },
    {
      "cell_type": "code",
      "source": [
        "#aralıktaki görüntüleri kendi dizinimize kaydedelim.\n",
        "dizinim=train_images[0:128]\n",
        "print(dizinim.shape)#paket olarak görebilmek için shape komutunu ekleme yapmalıyız."
      ],
      "metadata": {
        "colab": {
          "base_uri": "https://localhost:8080/"
        },
        "id": "YmvlWyh314zA",
        "outputId": "c0614cb2-1ae9-4ffb-b808-1378172e04ab"
      },
      "execution_count": null,
      "outputs": [
        {
          "output_type": "stream",
          "name": "stdout",
          "text": [
            "(128, 28, 28)\n"
          ]
        }
      ]
    },
    {
      "cell_type": "code",
      "source": [
        "dizinim=train_images[7:77,:,:]\n",
        "dizinim.shape"
      ],
      "metadata": {
        "colab": {
          "base_uri": "https://localhost:8080/"
        },
        "id": "JFkLe4Nj2oWP",
        "outputId": "aa070d45-afaf-48c8-9db4-38249c50c42e"
      },
      "execution_count": null,
      "outputs": [
        {
          "output_type": "execute_result",
          "data": {
            "text/plain": [
              "(70, 28, 28)"
            ]
          },
          "metadata": {},
          "execution_count": 36
        }
      ]
    },
    {
      "cell_type": "code",
      "source": [
        "dizinim=train_images[7:77,0:14,14:28]\n",
        "dizinim.shape"
      ],
      "metadata": {
        "colab": {
          "base_uri": "https://localhost:8080/"
        },
        "id": "2lKOW3Jv3DyO",
        "outputId": "9846a551-4f20-44fb-f9fe-ed141b1c6a66"
      },
      "execution_count": null,
      "outputs": [
        {
          "output_type": "execute_result",
          "data": {
            "text/plain": [
              "(70, 14, 14)"
            ]
          },
          "metadata": {},
          "execution_count": 39
        }
      ]
    },
    {
      "cell_type": "code",
      "source": [
        "#görüntü verisi genellikle tensor'dür."
      ],
      "metadata": {
        "id": "pON87Mem3KBc"
      },
      "execution_count": null,
      "outputs": []
    },
    {
      "cell_type": "markdown",
      "source": [
        "# İŞLEMLER\n",
        "  *Eleman temelli \n",
        "Bu işlemler tensörün her elemanına ayrı ayrı uygulanır.  "
      ],
      "metadata": {
        "id": "tbN4WVAb3moN"
      }
    },
    {
      "cell_type": "code",
      "source": [
        "def naive_add(x,y):\n",
        "  assert len(x.shape)==2#x ve y 2boyutlu tensorü olarak tanımlanmış olacaktır.\n",
        "  assert x.shape==y.shape\n",
        "  x=x.copy()\n",
        "  for i in range(x.shape[0]):\n",
        "    for j in range(x.shape[1]):\n",
        "      x[i,j] += y[i,j]\n",
        "  return x    #Burada matrisler arasında basit bir toplama ,işlei  yapan yapıyı görüyoruz."
      ],
      "metadata": {
        "id": "NcMttuy93037"
      },
      "execution_count": null,
      "outputs": []
    },
    {
      "cell_type": "code",
      "source": [
        "x=np.array([[1,2,3],[4,5,6],[7,8,9]])\n",
        "y=np.array([[2,3,4],[5,6,7],[8,9,1]])\n",
        "\n",
        "z=naive_add(x,y)\n",
        "print(z[[2],[2]])#z'nin 2.indektesi matrisinin 2.indisteki değerine ulaşım sağlamaktayız."
      ],
      "metadata": {
        "colab": {
          "base_uri": "https://localhost:8080/"
        },
        "id": "fRpW5RnV4qWj",
        "outputId": "d55fe6fc-2028-44a0-8489-ad61c560be10"
      },
      "execution_count": null,
      "outputs": [
        {
          "output_type": "stream",
          "name": "stdout",
          "text": [
            "[10]\n"
          ]
        }
      ]
    },
    {
      "cell_type": "code",
      "source": [
        "import numpy as np\n",
        "x=np.array([[1,2,3],\n",
        "            [4,5,6],\n",
        "            [7,8,9]])\n",
        "y=np.array([[2,3,4],\n",
        "            [5,6,7],\n",
        "            [8,9,1]])\n",
        "\n",
        "z=x+y\n",
        "z#Herhangi bir tanımlama yapmadan numpy kütüphanesi kullanarak matrislerde işlemleri daha kolay hale getirebiliriz."
      ],
      "metadata": {
        "colab": {
          "base_uri": "https://localhost:8080/"
        },
        "id": "Uj4vTrAZ5CY9",
        "outputId": "d5d36425-6a95-4191-8d98-4abfb881603c"
      },
      "execution_count": null,
      "outputs": [
        {
          "output_type": "execute_result",
          "data": {
            "text/plain": [
              "array([[ 3,  5,  7],\n",
              "       [ 9, 11, 13],\n",
              "       [15, 17, 10]])"
            ]
          },
          "metadata": {},
          "execution_count": 47
        }
      ]
    },
    {
      "cell_type": "code",
      "source": [
        "def naive_ref(x,y):\n",
        "  assert len(x.shape)==2\n",
        "  assert x.shape==y.shape\n",
        "  x=x.copy()\n",
        "  for i in range(x.shape[0]):\n",
        "    for j in range(x.shape[1]):\n",
        "      x[i,j] *= y[i,j]\n",
        "  return x #çarpma işlemi için gerekli fonksiyonu elle yazdık"
      ],
      "metadata": {
        "id": "VqVPIBct5_pa"
      },
      "execution_count": null,
      "outputs": []
    },
    {
      "cell_type": "code",
      "source": [
        "x=np.array([[1,2,3],\n",
        "            [4,5,6],\n",
        "            [7,8,9]])\n",
        "y=np.array([[2,3,4],\n",
        "            [5,6,7],\n",
        "            [8,9,1]])\n",
        "z=naive_ref(x,y)\n",
        "# print(z[[2],[2]])\n",
        "z\n"
      ],
      "metadata": {
        "colab": {
          "base_uri": "https://localhost:8080/"
        },
        "id": "ODxFGEmT68ob",
        "outputId": "47dadc2f-9fda-462b-974b-785ce40e3ad4"
      },
      "execution_count": null,
      "outputs": [
        {
          "output_type": "execute_result",
          "data": {
            "text/plain": [
              "array([[ 2,  6, 12],\n",
              "       [20, 30, 42],\n",
              "       [56, 72,  9]])"
            ]
          },
          "metadata": {},
          "execution_count": 56
        }
      ]
    },
    {
      "cell_type": "code",
      "source": [
        "#numpy kütüphanesi sayesinde çarpma işlemini kolay bir şekilde yapmaktayız.\n",
        "z=x*y\n",
        "z"
      ],
      "metadata": {
        "colab": {
          "base_uri": "https://localhost:8080/"
        },
        "id": "ZWO7o-Cl7BlB",
        "outputId": "bbafea73-dba2-4d71-f891-7b9ab492b5e1"
      },
      "execution_count": null,
      "outputs": [
        {
          "output_type": "execute_result",
          "data": {
            "text/plain": [
              "array([[ 2,  6, 12],\n",
              "       [20, 30, 42],\n",
              "       [56, 72,  9]])"
            ]
          },
          "metadata": {},
          "execution_count": 60
        }
      ]
    },
    {
      "cell_type": "code",
      "source": [
        "import numpy as np\n",
        "z=np.maximum(x,0.)\n",
        "z"
      ],
      "metadata": {
        "colab": {
          "base_uri": "https://localhost:8080/"
        },
        "id": "v6wOIK2R7vPY",
        "outputId": "2426d932-1204-460a-e135-0c07f7b6705a"
      },
      "execution_count": null,
      "outputs": [
        {
          "output_type": "execute_result",
          "data": {
            "text/plain": [
              "array([[1., 2., 3.],\n",
              "       [4., 5., 6.],\n",
              "       [7., 8., 9.]])"
            ]
          },
          "metadata": {},
          "execution_count": 63
        }
      ]
    },
    {
      "cell_type": "markdown",
      "source": [
        "## YAYMA OPERASYONU\n",
        "*Matris ile vektörü topladığımız anda yayma işlemi yapmış oluyoruz.Buna yayma işlemi denmektedir."
      ],
      "metadata": {
        "id": "lf1RonVN8tOS"
      }
    },
    {
      "cell_type": "code",
      "source": [
        "def naive_add_matrix_and_vector(x,y):\n",
        "  assert len(x.shape)==2\n",
        "  assert len(y.shape)==1\n",
        "  assert x.shape[1]==y.shape[0]\n",
        "  x=x.copy()\n",
        "  for i in range(x.shape[0]):\n",
        "    for j in range(x.shape[1]):\n",
        "      x[i,j]+=y[j]\n",
        "  return x    #yayma operasyonu için kodlama işlemlerimizi gerçekleştirmiş oluyoruz.\n"
      ],
      "metadata": {
        "id": "c86bqBTl8ui5"
      },
      "execution_count": null,
      "outputs": []
    },
    {
      "cell_type": "code",
      "source": [
        "#bir x matrisine ve birde y vektörüne ihtiyacımız olacaktır.\n",
        "x=np.array([[1,2,3],[4,5,6],[7,8,9]])\n",
        "y=np.array([7,14,21])\n",
        "result=naive_add_matrix_and_vector(x,y)\n",
        "result\n"
      ],
      "metadata": {
        "colab": {
          "base_uri": "https://localhost:8080/"
        },
        "id": "JYVPgHTg8fqq",
        "outputId": "6a1ac325-72c1-484e-f0ae-6b6a32673524"
      },
      "execution_count": null,
      "outputs": [
        {
          "output_type": "execute_result",
          "data": {
            "text/plain": [
              "array([[ 8, 16, 24],\n",
              "       [11, 19, 27],\n",
              "       [14, 22, 30]])"
            ]
          },
          "metadata": {},
          "execution_count": 69
        }
      ]
    },
    {
      "cell_type": "code",
      "source": [
        "import numpy as np\n",
        "x=np.random.random((64,3,32,10))\n",
        "y=np.random.random((32,10))\n",
        "z=np.maximum(x,y)\n",
        "z.shape #numpy kütüphanesi sayesinde "
      ],
      "metadata": {
        "colab": {
          "base_uri": "https://localhost:8080/"
        },
        "id": "XcfzSLCA-EcG",
        "outputId": "65a9e749-82ce-431d-811e-a121ff43fe6f"
      },
      "execution_count": null,
      "outputs": [
        {
          "output_type": "execute_result",
          "data": {
            "text/plain": [
              "(64, 3, 32, 10)"
            ]
          },
          "metadata": {},
          "execution_count": 73
        }
      ]
    },
    {
      "cell_type": "markdown",
      "source": [
        "# İÇ ÇARPIM İŞLEMİ"
      ],
      "metadata": {
        "id": "vD3xu24O_knw"
      }
    },
    {
      "cell_type": "code",
      "source": [
        "import numpy as np\n",
        "x=np.array([[1,2],\n",
        "            [1,2]])\n",
        "y=np.array([[1,2],\n",
        "            [1,2]])\n",
        "z=np.dot(x,y)\n",
        "z"
      ],
      "metadata": {
        "colab": {
          "base_uri": "https://localhost:8080/"
        },
        "id": "e7KN7zMB_HML",
        "outputId": "725e5cf7-b4b9-4f91-a526-c9e6d332dddf"
      },
      "execution_count": null,
      "outputs": [
        {
          "output_type": "execute_result",
          "data": {
            "text/plain": [
              "array([[3, 6],\n",
              "       [3, 6]])"
            ]
          },
          "metadata": {},
          "execution_count": 74
        }
      ]
    },
    {
      "cell_type": "markdown",
      "source": [
        "#KANAL ŞEKİL DEĞİŞRTİRME SHAPE/RESHAPE"
      ],
      "metadata": {
        "id": "g4Dvgqm9B6YN"
      }
    },
    {
      "cell_type": "code",
      "source": [
        "# BİR TENSOR TANIMLAMASI YAPALIM\n",
        "x=np.array([[0.,1.],\n",
        "            [2.,3.],\n",
        "            [4.,5.]])\n",
        "x.shape#3'E 2'lik bir matristir bu."
      ],
      "metadata": {
        "colab": {
          "base_uri": "https://localhost:8080/"
        },
        "id": "_O-ctpphAFlY",
        "outputId": "d98f5141-749c-4c85-8352-691f08fab6de"
      },
      "execution_count": null,
      "outputs": [
        {
          "output_type": "execute_result",
          "data": {
            "text/plain": [
              "(3, 2)"
            ]
          },
          "metadata": {},
          "execution_count": 76
        }
      ]
    },
    {
      "cell_type": "code",
      "source": [
        "x=x.reshape((6,1))#Burada tüm elemanları 6 satır 1 sütun şeklinde reshape etmiş olduk.\n",
        "\n",
        "x"
      ],
      "metadata": {
        "colab": {
          "base_uri": "https://localhost:8080/"
        },
        "id": "BKA2tZgOB_d-",
        "outputId": "be8777e4-58da-4079-d1b2-31fc883b9594"
      },
      "execution_count": null,
      "outputs": [
        {
          "output_type": "execute_result",
          "data": {
            "text/plain": [
              "array([[0.],\n",
              "       [1.],\n",
              "       [2.],\n",
              "       [3.],\n",
              "       [4.],\n",
              "       [5.]])"
            ]
          },
          "metadata": {},
          "execution_count": 78
        }
      ]
    },
    {
      "cell_type": "code",
      "source": [
        "x=x.reshape(2,3)#Burada 2 satır 3 sürun şeklinde tanımlamamızı yapmış oluyoruz.\n",
        "x"
      ],
      "metadata": {
        "colab": {
          "base_uri": "https://localhost:8080/"
        },
        "id": "vV8TubZwCrnG",
        "outputId": "e3be51e3-c176-4c9d-f5c6-032551f293e5"
      },
      "execution_count": null,
      "outputs": [
        {
          "output_type": "execute_result",
          "data": {
            "text/plain": [
              "array([[0., 1., 2.],\n",
              "       [3., 4., 5.]])"
            ]
          },
          "metadata": {},
          "execution_count": 80
        }
      ]
    },
    {
      "cell_type": "code",
      "source": [
        "x=np.zeros((100,10))#0'lardan boyutunu verdiğimiz 1 matris oluşturalım.\n",
        "x=np.transpose(x)#yatay ve dikey'de yer değişikliği yaptık.\n",
        "print(x.shape)"
      ],
      "metadata": {
        "colab": {
          "base_uri": "https://localhost:8080/"
        },
        "id": "LvtlqqwkC6zY",
        "outputId": "579e505c-6ece-49bb-da2d-f0925fe0ac1c"
      },
      "execution_count": null,
      "outputs": [
        {
          "output_type": "stream",
          "name": "stdout",
          "text": [
            "(10, 100)\n"
          ]
        }
      ]
    },
    {
      "cell_type": "markdown",
      "source": [
        "#TÜREV GEREKLİLİĞİ"
      ],
      "metadata": {
        "id": "5znA5HxoDp2O"
      }
    },
    {
      "cell_type": "code",
      "source": [
        ""
      ],
      "metadata": {
        "id": "1Pqz8r44DXp-"
      },
      "execution_count": null,
      "outputs": []
    }
  ]
}