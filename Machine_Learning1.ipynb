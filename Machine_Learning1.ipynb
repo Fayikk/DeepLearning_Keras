{
  "nbformat": 4,
  "nbformat_minor": 0,
  "metadata": {
    "colab": {
      "name": "Machine_Learning.ipynb",
      "provenance": [],
      "authorship_tag": "ABX9TyP/cF5liRCwLz11Gu79Cnci",
      "include_colab_link": true
    },
    "kernelspec": {
      "name": "python3",
      "display_name": "Python 3"
    },
    "language_info": {
      "name": "python"
    }
  },
  "cells": [
    {
      "cell_type": "markdown",
      "metadata": {
        "id": "view-in-github",
        "colab_type": "text"
      },
      "source": [
        "<a href=\"https://colab.research.google.com/github/Fayikk/DeepLearning_Keras/blob/master/Machine_Learning1.ipynb\" target=\"_parent\"><img src=\"https://colab.research.google.com/assets/colab-badge.svg\" alt=\"Open In Colab\"/></a>"
      ]
    },
    {
      "cell_type": "code",
      "execution_count": null,
      "metadata": {
        "colab": {
          "base_uri": "https://localhost:8080/"
        },
        "id": "IAnP7-gcRXDD",
        "outputId": "805d5d37-77cb-476c-a342-165a56f9df86"
      },
      "outputs": [
        {
          "output_type": "stream",
          "name": "stdout",
          "text": [
            "   ulke  boy  kilo  yas cinsiyet\n",
            "0    tr  130    30   10        e\n",
            "1    tr  125    36   11        e\n",
            "2    tr  135    34   10        k\n",
            "3    tr  133    30    9        k\n",
            "4    tr  129    38   12        e\n",
            "5    tr  180    90   30        e\n",
            "6    tr  190    80   25        e\n",
            "7    tr  175    90   35        e\n",
            "8    tr  177    60   22        k\n",
            "9    us  185   105   33        e\n",
            "10   us  165    55   27        k\n",
            "11   us  155    50   44        k\n",
            "12   us  160    58   39        k\n",
            "13   us  162    59   41        k\n",
            "14   us  167    62   55        k\n",
            "15   fr  174    70   47        e\n",
            "16   fr  193    90   23        e\n",
            "17   fr  187    80   27        e\n",
            "18   fr  183    88   28        e\n",
            "19   fr  159    40   29        k\n",
            "20   fr  164    66   32        k\n",
            "21   fr  166    56   42        k\n",
            "------------\n",
            "    boy\n",
            "0   130\n",
            "1   125\n",
            "2   135\n",
            "3   133\n",
            "4   129\n",
            "5   180\n",
            "6   190\n",
            "7   175\n",
            "8   177\n",
            "9   185\n",
            "10  165\n",
            "11  155\n",
            "12  160\n",
            "13  162\n",
            "14  167\n",
            "15  174\n",
            "16  193\n",
            "17  187\n",
            "18  183\n",
            "19  159\n",
            "20  164\n",
            "21  166\n",
            "------------\n",
            "    boy  kilo\n",
            "0   130    30\n",
            "1   125    36\n",
            "2   135    34\n",
            "3   133    30\n",
            "4   129    38\n",
            "5   180    90\n",
            "6   190    80\n",
            "7   175    90\n",
            "8   177    60\n",
            "9   185   105\n",
            "10  165    55\n",
            "11  155    50\n",
            "12  160    58\n",
            "13  162    59\n",
            "14  167    62\n",
            "15  174    70\n",
            "16  193    90\n",
            "17  187    80\n",
            "18  183    88\n",
            "19  159    40\n",
            "20  164    66\n",
            "21  166    56\n",
            "------------\n"
          ]
        }
      ],
      "source": [
        "\n",
        "#Burada Verileri çekme işlemini gerçekleştiriyoruz\n",
        "import numpy as np\n",
        "import matplotlib as plt\n",
        "import pandas as pd\n",
        "veriler=pd.read_csv(\"veriler.txt\")#Burada pandas kütüphanesi kullanılarak veri çekme işlemini gerçekleştiriyoruz\n",
        "\n",
        "print(veriler)\n",
        "print(\"------------\")\n",
        "#verileri değişkene atıyoruz\n",
        "boy=veriler[[\"boy\"]]\n",
        "#değişknelerin yazdırılma işlmelerini gerçekleştiriyoruz\n",
        "print(boy)\n",
        "print(\"------------\")\n",
        "boyKilo=veriler[[\"boy\",\"kilo\"]]\n",
        "print(boyKilo)\n",
        "print(\"------------\")\n",
        "\n",
        "\n",
        "\n",
        "\n"
      ]
    },
    {
      "cell_type": "code",
      "source": [],
      "metadata": {
        "id": "RIyko_2YSkV8"
      },
      "execution_count": null,
      "outputs": []
    },
    {
      "cell_type": "code",
      "source": [],
      "metadata": {
        "id": "QGK0ancwR407"
      },
      "execution_count": null,
      "outputs": []
    }
  ]
}